{
  "nbformat": 4,
  "nbformat_minor": 0,
  "metadata": {
    "colab": {
      "provenance": []
    },
    "kernelspec": {
      "name": "python3",
      "display_name": "Python 3"
    },
    "language_info": {
      "name": "python"
    }
  },
  "cells": [
    {
      "cell_type": "code",
      "source": [
        "from PIL import Image\n",
        "import numpy as np\n",
        "\n",
        "def encrypt_pixel(img, byte_array):\n",
        "    c=-1\n",
        "\n",
        "    for pix in img:\n",
        "        c += 1\n",
        "        try:\n",
        "                #print(img[c])\n",
        "                if byte_array[c] == '1':\n",
        "                    # even\n",
        "                    if img[c] % 2 == 0:\n",
        "                        img[c] -= 1\n",
        "                elif byte_array[c] == '0':\n",
        "                    # odd\n",
        "                    if img[c] % 2 != 0:\n",
        "                        img[c] -= 1\n",
        "                elif byte_array[c] == ' ':\n",
        "                    if img[c] % 2 != 0:\n",
        "                        img[c] -= 1\n",
        "                #print(img[c],byte_array[c])\n",
        "        except:\n",
        "                if img[c] % 2 == 0:\n",
        "                    img[c] -= 1\n",
        "                break\n",
        "    return img\n",
        "\n",
        "def get_byte(a):\n",
        "    a_bytes = bytes(a, \"ascii\")\n",
        "    return  (' '.join(format(ord(x), '08b') for x in a))\n",
        "\n",
        "\n",
        "if __name__ == '__main__':\n",
        "    #'1.png'\n",
        "    image_name = input('Please Enter Image Name:')\n",
        "    im = Image.open(image_name)\n",
        "    x,y = list(im.size)\n",
        "    rgb = np.asarray(im).reshape(-1)\n",
        "    new_img = np.array(rgb)\n",
        "    masg =input('Please enter your message: ')\n",
        "    enc = get_byte(masg)\n",
        "    encrypted  = (encrypt_pixel(new_img,enc))\n",
        "    final_img = encrypted.reshape(y,x,3)\n",
        "    im = Image.fromarray(final_img)\n",
        "    im.save(\"2.png\")\n",
        "    print('Encrypted and Saved')"
      ],
      "metadata": {
        "colab": {
          "base_uri": "https://localhost:8080/"
        },
        "id": "0Jnq605Of3eK",
        "outputId": "17b8f19f-dbfe-4d82-8175-e2071f6fc48a"
      },
      "execution_count": 18,
      "outputs": [
        {
          "output_type": "stream",
          "name": "stdout",
          "text": [
            "Please Enter Image Name:download.png\n",
            "Please enter your massage: akjdfha\n",
            "Encrypted and Saved\n"
          ]
        }
      ]
    },
    {
      "cell_type": "code",
      "source": [
        "from PIL import Image\n",
        "import numpy as np\n",
        "\n",
        "\n",
        "def binaryToDecimal(binary):\n",
        "    binary1 = binary\n",
        "    decimal, i, n = 0, 0, 0\n",
        "    while (binary != 0):\n",
        "        dec = binary % 10\n",
        "        decimal = decimal + dec * pow(2, i)\n",
        "        binary = binary // 10\n",
        "        i += 1\n",
        "\n",
        "    return chr(decimal)\n",
        "\n",
        "def decrypt(pix):\n",
        "    st = ''\n",
        "    c=0\n",
        "    for i in pix:\n",
        "        c+=1\n",
        "        if i%2 != 0 and c%9==0:\n",
        "            break\n",
        "        elif i%2 == 0 and c%9==0:\n",
        "            st+=' '\n",
        "        elif i%2 ==0:\n",
        "            st+='0'\n",
        "        elif i%2 !=0:\n",
        "            st+='1'\n",
        "    return st\n",
        "\n",
        "if __name__ == '__main__':\n",
        "    image_path = input('Please Enter Image Name:')\n",
        "    im = Image.open(image_path)\n",
        "\n",
        "    x,y = list(im.size)\n",
        "    rgb = np.asarray(im).reshape(-1)\n",
        "\n",
        "    new_img = np.array(rgb)\n",
        "    de = decrypt(new_img)\n",
        "\n",
        "    de_array = de.split(' ')\n",
        "\n",
        "    final_masg =  ''\n",
        "\n",
        "    for i in de_array:\n",
        "        final_masg+=binaryToDecimal(int(i))\n",
        "\n",
        "    print('Message:',final_masg)"
      ],
      "metadata": {
        "colab": {
          "base_uri": "https://localhost:8080/"
        },
        "id": "PuT7mOevfxJe",
        "outputId": "8a398244-0906-4419-c6d2-389cdf3970c5"
      },
      "execution_count": 20,
      "outputs": [
        {
          "output_type": "stream",
          "name": "stdout",
          "text": [
            "Please Enter Image Name:2.png\n",
            "Massage: akjdfha\n"
          ]
        }
      ]
    }
  ]
}